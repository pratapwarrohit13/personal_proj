{
 "cells": [
  {
   "cell_type": "code",
   "execution_count": 6,
   "id": "fdcf0641",
   "metadata": {},
   "outputs": [],
   "source": [
    "from numpy import argmax\n",
    "from math import exp"
   ]
  },
  {
   "cell_type": "markdown",
   "id": "450861a9",
   "metadata": {},
   "source": [
    "### Max Function"
   ]
  },
  {
   "cell_type": "code",
   "execution_count": 1,
   "id": "6a0cce72",
   "metadata": {},
   "outputs": [
    {
     "name": "stdout",
     "output_type": "stream",
     "text": [
      "3\n"
     ]
    }
   ],
   "source": [
    "data = [1, 3, 2]\n",
    "# calculate the max of the list\n",
    "result = max(data)\n",
    "print(result)"
   ]
  },
  {
   "cell_type": "markdown",
   "id": "a4771af9",
   "metadata": {},
   "source": [
    "### Argmax Function"
   ]
  },
  {
   "cell_type": "code",
   "execution_count": 3,
   "id": "1f34feae",
   "metadata": {},
   "outputs": [
    {
     "name": "stdout",
     "output_type": "stream",
     "text": [
      "1\n"
     ]
    }
   ],
   "source": [
    "data = [1, 3, 2]\n",
    "# calculate the argmax of the list\n",
    "result = argmax(data)\n",
    "print(result)"
   ]
  },
  {
   "cell_type": "markdown",
   "id": "d70a5faa",
   "metadata": {},
   "source": [
    "### Softmax Function"
   ]
  },
  {
   "cell_type": "code",
   "execution_count": 7,
   "id": "bfe794b4",
   "metadata": {},
   "outputs": [],
   "source": [
    "# calculate each probability\n",
    "p1 = exp(1) / (exp(1) + exp(3) + exp(2))\n",
    "p2 = exp(3) / (exp(1) + exp(3) + exp(2))\n",
    "p3 = exp(2) / (exp(1) + exp(3) + exp(2))"
   ]
  },
  {
   "cell_type": "code",
   "execution_count": 8,
   "id": "1a25758a",
   "metadata": {},
   "outputs": [
    {
     "name": "stdout",
     "output_type": "stream",
     "text": [
      "0.09003057317038046 0.6652409557748219 0.24472847105479767\n",
      "1.0\n"
     ]
    }
   ],
   "source": [
    "print(p1, p2, p3)\n",
    "# report sum of probabilities\n",
    "print(p1 + p2 + p3)"
   ]
  },
  {
   "cell_type": "code",
   "execution_count": null,
   "id": "35aac2cc",
   "metadata": {},
   "outputs": [],
   "source": []
  }
 ],
 "metadata": {
  "kernelspec": {
   "display_name": "Python 3",
   "language": "python",
   "name": "python3"
  },
  "language_info": {
   "codemirror_mode": {
    "name": "ipython",
    "version": 3
   },
   "file_extension": ".py",
   "mimetype": "text/x-python",
   "name": "python",
   "nbconvert_exporter": "python",
   "pygments_lexer": "ipython3",
   "version": "3.7.10"
  }
 },
 "nbformat": 4,
 "nbformat_minor": 5
}
