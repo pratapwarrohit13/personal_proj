{
 "cells": [
  {
   "cell_type": "code",
   "execution_count": 1,
   "id": "5985f1c0",
   "metadata": {},
   "outputs": [
    {
     "name": "stdout",
     "output_type": "stream",
     "text": [
      "Name: autokeras\n",
      "Version: 1.0.15\n",
      "Summary: AutoML for deep learning\n",
      "Home-page: http://autokeras.com\n",
      "Author: Data Analytics at Texas A&M (DATA) Lab, Keras Team\n",
      "Author-email: jhfjhfj1@gmail.com\n",
      "License: MIT\n",
      "Location: d:\\packages\\envs\\tensorflow\\lib\\site-packages\n",
      "Requires: tensorflow, pandas, keras-tuner, scikit-learn, packaging\n",
      "Required-by: \n",
      "Note: you may need to restart the kernel to use updated packages.\n"
     ]
    }
   ],
   "source": [
    "pip show autokeras"
   ]
  },
  {
   "cell_type": "code",
   "execution_count": 2,
   "id": "ef31ec1c",
   "metadata": {},
   "outputs": [],
   "source": [
    "import pandas as pd\n",
    "from sklearn.model_selection import train_test_split\n",
    "from sklearn.preprocessing import LabelEncoder\n",
    "from autokeras import StructuredDataClassifier\n",
    "from numpy import asarray"
   ]
  },
  {
   "cell_type": "code",
   "execution_count": 3,
   "id": "f03a4343",
   "metadata": {},
   "outputs": [],
   "source": [
    "path = 'D://DS//Stater_Projects//sonar.txt'"
   ]
  },
  {
   "cell_type": "code",
   "execution_count": 4,
   "id": "bf926866",
   "metadata": {},
   "outputs": [],
   "source": [
    "df = pd.read_csv(path, header = None)"
   ]
  },
  {
   "cell_type": "code",
   "execution_count": 5,
   "id": "6e9fdc6a",
   "metadata": {},
   "outputs": [
    {
     "data": {
      "text/html": [
       "<div>\n",
       "<style scoped>\n",
       "    .dataframe tbody tr th:only-of-type {\n",
       "        vertical-align: middle;\n",
       "    }\n",
       "\n",
       "    .dataframe tbody tr th {\n",
       "        vertical-align: top;\n",
       "    }\n",
       "\n",
       "    .dataframe thead th {\n",
       "        text-align: right;\n",
       "    }\n",
       "</style>\n",
       "<table border=\"1\" class=\"dataframe\">\n",
       "  <thead>\n",
       "    <tr style=\"text-align: right;\">\n",
       "      <th></th>\n",
       "      <th>0</th>\n",
       "      <th>1</th>\n",
       "      <th>2</th>\n",
       "      <th>3</th>\n",
       "      <th>4</th>\n",
       "      <th>5</th>\n",
       "      <th>6</th>\n",
       "      <th>7</th>\n",
       "      <th>8</th>\n",
       "      <th>9</th>\n",
       "      <th>...</th>\n",
       "      <th>51</th>\n",
       "      <th>52</th>\n",
       "      <th>53</th>\n",
       "      <th>54</th>\n",
       "      <th>55</th>\n",
       "      <th>56</th>\n",
       "      <th>57</th>\n",
       "      <th>58</th>\n",
       "      <th>59</th>\n",
       "      <th>60</th>\n",
       "    </tr>\n",
       "  </thead>\n",
       "  <tbody>\n",
       "    <tr>\n",
       "      <th>0</th>\n",
       "      <td>0.0200</td>\n",
       "      <td>0.0371</td>\n",
       "      <td>0.0428</td>\n",
       "      <td>0.0207</td>\n",
       "      <td>0.0954</td>\n",
       "      <td>0.0986</td>\n",
       "      <td>0.1539</td>\n",
       "      <td>0.1601</td>\n",
       "      <td>0.3109</td>\n",
       "      <td>0.2111</td>\n",
       "      <td>...</td>\n",
       "      <td>0.0027</td>\n",
       "      <td>0.0065</td>\n",
       "      <td>0.0159</td>\n",
       "      <td>0.0072</td>\n",
       "      <td>0.0167</td>\n",
       "      <td>0.0180</td>\n",
       "      <td>0.0084</td>\n",
       "      <td>0.0090</td>\n",
       "      <td>0.0032</td>\n",
       "      <td>R</td>\n",
       "    </tr>\n",
       "    <tr>\n",
       "      <th>1</th>\n",
       "      <td>0.0453</td>\n",
       "      <td>0.0523</td>\n",
       "      <td>0.0843</td>\n",
       "      <td>0.0689</td>\n",
       "      <td>0.1183</td>\n",
       "      <td>0.2583</td>\n",
       "      <td>0.2156</td>\n",
       "      <td>0.3481</td>\n",
       "      <td>0.3337</td>\n",
       "      <td>0.2872</td>\n",
       "      <td>...</td>\n",
       "      <td>0.0084</td>\n",
       "      <td>0.0089</td>\n",
       "      <td>0.0048</td>\n",
       "      <td>0.0094</td>\n",
       "      <td>0.0191</td>\n",
       "      <td>0.0140</td>\n",
       "      <td>0.0049</td>\n",
       "      <td>0.0052</td>\n",
       "      <td>0.0044</td>\n",
       "      <td>R</td>\n",
       "    </tr>\n",
       "    <tr>\n",
       "      <th>2</th>\n",
       "      <td>0.0262</td>\n",
       "      <td>0.0582</td>\n",
       "      <td>0.1099</td>\n",
       "      <td>0.1083</td>\n",
       "      <td>0.0974</td>\n",
       "      <td>0.2280</td>\n",
       "      <td>0.2431</td>\n",
       "      <td>0.3771</td>\n",
       "      <td>0.5598</td>\n",
       "      <td>0.6194</td>\n",
       "      <td>...</td>\n",
       "      <td>0.0232</td>\n",
       "      <td>0.0166</td>\n",
       "      <td>0.0095</td>\n",
       "      <td>0.0180</td>\n",
       "      <td>0.0244</td>\n",
       "      <td>0.0316</td>\n",
       "      <td>0.0164</td>\n",
       "      <td>0.0095</td>\n",
       "      <td>0.0078</td>\n",
       "      <td>R</td>\n",
       "    </tr>\n",
       "    <tr>\n",
       "      <th>3</th>\n",
       "      <td>0.0100</td>\n",
       "      <td>0.0171</td>\n",
       "      <td>0.0623</td>\n",
       "      <td>0.0205</td>\n",
       "      <td>0.0205</td>\n",
       "      <td>0.0368</td>\n",
       "      <td>0.1098</td>\n",
       "      <td>0.1276</td>\n",
       "      <td>0.0598</td>\n",
       "      <td>0.1264</td>\n",
       "      <td>...</td>\n",
       "      <td>0.0121</td>\n",
       "      <td>0.0036</td>\n",
       "      <td>0.0150</td>\n",
       "      <td>0.0085</td>\n",
       "      <td>0.0073</td>\n",
       "      <td>0.0050</td>\n",
       "      <td>0.0044</td>\n",
       "      <td>0.0040</td>\n",
       "      <td>0.0117</td>\n",
       "      <td>R</td>\n",
       "    </tr>\n",
       "    <tr>\n",
       "      <th>4</th>\n",
       "      <td>0.0762</td>\n",
       "      <td>0.0666</td>\n",
       "      <td>0.0481</td>\n",
       "      <td>0.0394</td>\n",
       "      <td>0.0590</td>\n",
       "      <td>0.0649</td>\n",
       "      <td>0.1209</td>\n",
       "      <td>0.2467</td>\n",
       "      <td>0.3564</td>\n",
       "      <td>0.4459</td>\n",
       "      <td>...</td>\n",
       "      <td>0.0031</td>\n",
       "      <td>0.0054</td>\n",
       "      <td>0.0105</td>\n",
       "      <td>0.0110</td>\n",
       "      <td>0.0015</td>\n",
       "      <td>0.0072</td>\n",
       "      <td>0.0048</td>\n",
       "      <td>0.0107</td>\n",
       "      <td>0.0094</td>\n",
       "      <td>R</td>\n",
       "    </tr>\n",
       "  </tbody>\n",
       "</table>\n",
       "<p>5 rows × 61 columns</p>\n",
       "</div>"
      ],
      "text/plain": [
       "       0       1       2       3       4       5       6       7       8   \\\n",
       "0  0.0200  0.0371  0.0428  0.0207  0.0954  0.0986  0.1539  0.1601  0.3109   \n",
       "1  0.0453  0.0523  0.0843  0.0689  0.1183  0.2583  0.2156  0.3481  0.3337   \n",
       "2  0.0262  0.0582  0.1099  0.1083  0.0974  0.2280  0.2431  0.3771  0.5598   \n",
       "3  0.0100  0.0171  0.0623  0.0205  0.0205  0.0368  0.1098  0.1276  0.0598   \n",
       "4  0.0762  0.0666  0.0481  0.0394  0.0590  0.0649  0.1209  0.2467  0.3564   \n",
       "\n",
       "       9   ...      51      52      53      54      55      56      57  \\\n",
       "0  0.2111  ...  0.0027  0.0065  0.0159  0.0072  0.0167  0.0180  0.0084   \n",
       "1  0.2872  ...  0.0084  0.0089  0.0048  0.0094  0.0191  0.0140  0.0049   \n",
       "2  0.6194  ...  0.0232  0.0166  0.0095  0.0180  0.0244  0.0316  0.0164   \n",
       "3  0.1264  ...  0.0121  0.0036  0.0150  0.0085  0.0073  0.0050  0.0044   \n",
       "4  0.4459  ...  0.0031  0.0054  0.0105  0.0110  0.0015  0.0072  0.0048   \n",
       "\n",
       "       58      59  60  \n",
       "0  0.0090  0.0032   R  \n",
       "1  0.0052  0.0044   R  \n",
       "2  0.0095  0.0078   R  \n",
       "3  0.0040  0.0117   R  \n",
       "4  0.0107  0.0094   R  \n",
       "\n",
       "[5 rows x 61 columns]"
      ]
     },
     "execution_count": 5,
     "metadata": {},
     "output_type": "execute_result"
    }
   ],
   "source": [
    "df.head()"
   ]
  },
  {
   "cell_type": "code",
   "execution_count": 6,
   "id": "de018f2f",
   "metadata": {},
   "outputs": [],
   "source": [
    "df = df.values"
   ]
  },
  {
   "cell_type": "code",
   "execution_count": 7,
   "id": "31d1d0a6",
   "metadata": {},
   "outputs": [],
   "source": [
    "features,target = df[:, :-1], df[:, -1]"
   ]
  },
  {
   "cell_type": "code",
   "execution_count": 8,
   "id": "a3979f46",
   "metadata": {},
   "outputs": [
    {
     "name": "stdout",
     "output_type": "stream",
     "text": [
      "(208, 60) (208,)\n"
     ]
    }
   ],
   "source": [
    "print(features.shape, target.shape)"
   ]
  },
  {
   "cell_type": "code",
   "execution_count": 9,
   "id": "27194b44",
   "metadata": {},
   "outputs": [],
   "source": [
    "features = features.astype('float32')\n",
    "le = LabelEncoder()\n",
    "target = le.fit_transform(target)"
   ]
  },
  {
   "cell_type": "code",
   "execution_count": 10,
   "id": "cd50c0c3",
   "metadata": {},
   "outputs": [
    {
     "name": "stdout",
     "output_type": "stream",
     "text": [
      "(139, 60) (69, 60) (139,) (69,)\n"
     ]
    }
   ],
   "source": [
    "features_train, features_test, target_train, target_test = train_test_split(features,target, test_size=0.33, random_state=12345)\n",
    "print(features_train.shape, features_test.shape, target_train.shape, target_test.shape)"
   ]
  },
  {
   "cell_type": "code",
   "execution_count": 11,
   "id": "62cb1962",
   "metadata": {},
   "outputs": [
    {
     "name": "stdout",
     "output_type": "stream",
     "text": [
      "INFO:tensorflow:Reloading Oracle from existing project .\\structured_data_classifier\\oracle.json\n",
      "INFO:tensorflow:Reloading Tuner from .\\structured_data_classifier\\tuner0.json\n"
     ]
    }
   ],
   "source": [
    "autoks = StructuredDataClassifier(max_trials=15)"
   ]
  },
  {
   "cell_type": "code",
   "execution_count": 12,
   "id": "222c9423",
   "metadata": {},
   "outputs": [
    {
     "name": "stdout",
     "output_type": "stream",
     "text": [
      "WARNING:tensorflow:Callback method `on_train_batch_end` is slow compared to the batch time (batch time: 0.0000s vs `on_train_batch_end` time: 0.0022s). Check your callbacks.\n",
      "INFO:tensorflow:Oracle triggered exit\n",
      "Epoch 1/37\n",
      "5/5 [==============================] - 1s 3ms/step - loss: 0.7713 - accuracy: 0.4317\n",
      "Epoch 2/37\n",
      "5/5 [==============================] - 0s 2ms/step - loss: 0.6950 - accuracy: 0.5827\n",
      "Epoch 3/37\n",
      "5/5 [==============================] - 0s 5ms/step - loss: 0.6420 - accuracy: 0.6619\n",
      "Epoch 4/37\n",
      "5/5 [==============================] - 0s 6ms/step - loss: 0.5996 - accuracy: 0.7050\n",
      "Epoch 5/37\n",
      "5/5 [==============================] - 0s 2ms/step - loss: 0.5637 - accuracy: 0.7698\n",
      "Epoch 6/37\n",
      "5/5 [==============================] - 0s 4ms/step - loss: 0.5319 - accuracy: 0.7698\n",
      "Epoch 7/37\n",
      "5/5 [==============================] - 0s 3ms/step - loss: 0.5018 - accuracy: 0.8129\n",
      "Epoch 8/37\n",
      "5/5 [==============================] - 0s 4ms/step - loss: 0.4736 - accuracy: 0.8273\n",
      "Epoch 9/37\n",
      "5/5 [==============================] - 0s 3ms/step - loss: 0.4467 - accuracy: 0.8345\n",
      "Epoch 10/37\n",
      "5/5 [==============================] - 0s 4ms/step - loss: 0.4212 - accuracy: 0.8561\n",
      "Epoch 11/37\n",
      "5/5 [==============================] - 0s 2ms/step - loss: 0.3968 - accuracy: 0.8777\n",
      "Epoch 12/37\n",
      "5/5 [==============================] - 0s 3ms/step - loss: 0.3734 - accuracy: 0.8921\n",
      "Epoch 13/37\n",
      "5/5 [==============================] - 0s 4ms/step - loss: 0.3511 - accuracy: 0.8993\n",
      "Epoch 14/37\n",
      "5/5 [==============================] - 0s 2ms/step - loss: 0.3297 - accuracy: 0.9065\n",
      "Epoch 15/37\n",
      "5/5 [==============================] - 0s 2ms/step - loss: 0.3095 - accuracy: 0.9137\n",
      "Epoch 16/37\n",
      "5/5 [==============================] - 0s 4ms/step - loss: 0.2902 - accuracy: 0.9209\n",
      "Epoch 17/37\n",
      "5/5 [==============================] - 0s 5ms/step - loss: 0.2723 - accuracy: 0.9281\n",
      "Epoch 18/37\n",
      "5/5 [==============================] - 0s 4ms/step - loss: 0.2556 - accuracy: 0.9353\n",
      "Epoch 19/37\n",
      "5/5 [==============================] - 0s 3ms/step - loss: 0.2397 - accuracy: 0.9424\n",
      "Epoch 20/37\n",
      "5/5 [==============================] - 0s 5ms/step - loss: 0.2250 - accuracy: 0.9424\n",
      "Epoch 21/37\n",
      "5/5 [==============================] - 0s 3ms/step - loss: 0.2111 - accuracy: 0.9496\n",
      "Epoch 22/37\n",
      "5/5 [==============================] - 0s 6ms/step - loss: 0.1979 - accuracy: 0.9496\n",
      "Epoch 23/37\n",
      "5/5 [==============================] - 0s 4ms/step - loss: 0.1856 - accuracy: 0.9640\n",
      "Epoch 24/37\n",
      "5/5 [==============================] - 0s 5ms/step - loss: 0.1743 - accuracy: 0.9712\n",
      "Epoch 25/37\n",
      "5/5 [==============================] - 0s 2ms/step - loss: 0.1637 - accuracy: 0.9712\n",
      "Epoch 26/37\n",
      "5/5 [==============================] - 0s 2ms/step - loss: 0.1535 - accuracy: 0.9784\n",
      "Epoch 27/37\n",
      "5/5 [==============================] - 0s 4ms/step - loss: 0.1440 - accuracy: 0.9784\n",
      "Epoch 28/37\n",
      "5/5 [==============================] - 0s 4ms/step - loss: 0.1351 - accuracy: 0.9784\n",
      "Epoch 29/37\n",
      "5/5 [==============================] - 0s 3ms/step - loss: 0.1268 - accuracy: 0.9784\n",
      "Epoch 30/37\n",
      "5/5 [==============================] - 0s 5ms/step - loss: 0.1191 - accuracy: 0.9784\n",
      "Epoch 31/37\n",
      "5/5 [==============================] - 0s 4ms/step - loss: 0.1119 - accuracy: 0.9856\n",
      "Epoch 32/37\n",
      "5/5 [==============================] - 0s 3ms/step - loss: 0.1051 - accuracy: 0.9928\n",
      "Epoch 33/37\n",
      "5/5 [==============================] - 0s 3ms/step - loss: 0.0987 - accuracy: 0.9928\n",
      "Epoch 34/37\n",
      "5/5 [==============================] - 0s 6ms/step - loss: 0.0927 - accuracy: 0.9928\n",
      "Epoch 35/37\n",
      "5/5 [==============================] - 0s 3ms/step - loss: 0.0870 - accuracy: 0.9928\n",
      "Epoch 36/37\n",
      "5/5 [==============================] - 0s 2ms/step - loss: 0.0817 - accuracy: 1.0000\n",
      "Epoch 37/37\n",
      "5/5 [==============================] - 0s 5ms/step - loss: 0.0767 - accuracy: 1.0000\n",
      "INFO:tensorflow:Assets written to: .\\structured_data_classifier\\best_model\\assets\n"
     ]
    }
   ],
   "source": [
    "autoks.fit(x=features_train, y=target_train, verbose=0)"
   ]
  },
  {
   "cell_type": "code",
   "execution_count": 13,
   "id": "1d51b38c",
   "metadata": {},
   "outputs": [],
   "source": [
    "loss, acc = autoks.evaluate(features_test, target_test, verbose=0)"
   ]
  },
  {
   "cell_type": "code",
   "execution_count": 14,
   "id": "91ce32ce",
   "metadata": {},
   "outputs": [
    {
     "name": "stdout",
     "output_type": "stream",
     "text": [
      "Accuracy: 0.754\n"
     ]
    }
   ],
   "source": [
    "print('Accuracy: %.3f' % acc)"
   ]
  },
  {
   "cell_type": "code",
   "execution_count": 15,
   "id": "d270c559",
   "metadata": {},
   "outputs": [],
   "source": [
    "trial_pred = [0.0200,0.0371,0.0428,0.0207,0.0954,0.0986,0.1539,0.1601,0.3109,0.2111,0.1609,0.1582,0.2238,0.0645,0.0660,0.2273,0.3100,0.2999,0.5078,0.4797,0.5783,0.5071,0.4328,0.5550,0.6711,0.6415,0.7104,0.8080,0.6791,0.3857,0.1307,0.2604,0.5121,0.7547,0.8537,0.8507,0.6692,0.6097,0.4943,0.2744,0.0510,0.2834,0.2825,0.4256,0.2641,0.1386,0.1051,0.1343,0.0383,0.0324,0.0232,0.0027,0.0065,0.0159,0.0072,0.0167,0.0180,0.0084,0.0090,0.0032]"
   ]
  },
  {
   "cell_type": "code",
   "execution_count": 16,
   "id": "5b2e8e5b",
   "metadata": {},
   "outputs": [
    {
     "name": "stdout",
     "output_type": "stream",
     "text": [
      "1/1 [==============================] - 0s 16ms/step\n",
      "Predicted: 1.000\n"
     ]
    }
   ],
   "source": [
    "features_new = asarray([trial_pred]).astype('float32')\n",
    "pred = autoks.predict(features_new)\n",
    "print('Predicted: %.3f' % pred[0])"
   ]
  },
  {
   "cell_type": "code",
   "execution_count": 17,
   "id": "2293ccc1",
   "metadata": {},
   "outputs": [],
   "source": [
    "model = autoks.export_model()"
   ]
  },
  {
   "cell_type": "code",
   "execution_count": 18,
   "id": "250d73a2",
   "metadata": {},
   "outputs": [
    {
     "name": "stdout",
     "output_type": "stream",
     "text": [
      "Model: \"model\"\n",
      "_________________________________________________________________\n",
      "Layer (type)                 Output Shape              Param #   \n",
      "=================================================================\n",
      "input_1 (InputLayer)         [(None, 60)]              0         \n",
      "_________________________________________________________________\n",
      "multi_category_encoding (Mul (None, 60)                0         \n",
      "_________________________________________________________________\n",
      "normalization (Normalization (None, 60)                121       \n",
      "_________________________________________________________________\n",
      "dense (Dense)                (None, 32)                1952      \n",
      "_________________________________________________________________\n",
      "re_lu (ReLU)                 (None, 32)                0         \n",
      "_________________________________________________________________\n",
      "dense_1 (Dense)              (None, 32)                1056      \n",
      "_________________________________________________________________\n",
      "re_lu_1 (ReLU)               (None, 32)                0         \n",
      "_________________________________________________________________\n",
      "dense_2 (Dense)              (None, 1)                 33        \n",
      "_________________________________________________________________\n",
      "classification_head_1 (Activ (None, 1)                 0         \n",
      "=================================================================\n",
      "Total params: 3,162\n",
      "Trainable params: 3,041\n",
      "Non-trainable params: 121\n",
      "_________________________________________________________________\n"
     ]
    }
   ],
   "source": [
    "model.summary()"
   ]
  },
  {
   "cell_type": "code",
   "execution_count": 19,
   "id": "967c8db0",
   "metadata": {},
   "outputs": [],
   "source": [
    "model.save('model_sonar.h5')"
   ]
  },
  {
   "cell_type": "code",
   "execution_count": null,
   "id": "f98547dd",
   "metadata": {},
   "outputs": [],
   "source": []
  }
 ],
 "metadata": {
  "kernelspec": {
   "display_name": "Python 3",
   "language": "python",
   "name": "python3"
  },
  "language_info": {
   "codemirror_mode": {
    "name": "ipython",
    "version": 3
   },
   "file_extension": ".py",
   "mimetype": "text/x-python",
   "name": "python",
   "nbconvert_exporter": "python",
   "pygments_lexer": "ipython3",
   "version": "3.7.10"
  }
 },
 "nbformat": 4,
 "nbformat_minor": 5
}
