{
 "cells": [
  {
   "cell_type": "code",
   "execution_count": 1,
   "id": "d92573e9",
   "metadata": {},
   "outputs": [],
   "source": [
    "import pandas as pd\n",
    "from sklearn.model_selection import train_test_split\n",
    "from sklearn.preprocessing import LabelEncoder\n",
    "from sklearn.preprocessing import OneHotEncoder\n",
    "from keras.models import Sequential\n",
    "from keras.layers import Dense"
   ]
  },
  {
   "cell_type": "code",
   "execution_count": 6,
   "id": "c89a6d0f",
   "metadata": {},
   "outputs": [],
   "source": [
    "def load_dataset(path):\n",
    "    # load the dataset as a pandas DataFrame\n",
    "    df = pd.read_csv(path, header=None)\n",
    "    # retrieve numpy array\n",
    "    df = df.values\n",
    "    # split into input (X) and output (y) variables\n",
    "    features = df[:, :-1]\n",
    "    target = df[:,-1]\n",
    "    # format all fields as string\n",
    "    features = features.astype(str)\n",
    "    # reshape target to be a 2d array\n",
    "    target = target.reshape((len(target), 1))\n",
    "    return features, target"
   ]
  },
  {
   "cell_type": "code",
   "execution_count": 3,
   "id": "79bd8226",
   "metadata": {},
   "outputs": [],
   "source": [
    "def prepare_inputs(features_train, features_test):\n",
    "    ohe = OneHotEncoder()\n",
    "    ohe.fit(features_train)\n",
    "    features_train_enc = ohe.transform(features_train)\n",
    "    features_test_enc = ohe.transform(features_test)\n",
    "    return features_train_enc, features_test_enc"
   ]
  },
  {
   "cell_type": "code",
   "execution_count": 4,
   "id": "0175e9c8",
   "metadata": {},
   "outputs": [],
   "source": [
    "def prepare_targets(target_train, target_test):\n",
    "    le = LabelEncoder()\n",
    "    le.fit(target_train)\n",
    "    target_train_enc = le.transform(target_train)\n",
    "    target_test_enc = le.transform(target_test)\n",
    "    return target_train_enc, target_test_enc"
   ]
  },
  {
   "cell_type": "code",
   "execution_count": 7,
   "id": "c0ebedad",
   "metadata": {},
   "outputs": [],
   "source": [
    "features, target = load_dataset('D://DS//Stater_Projects//breastcancer.txt')"
   ]
  },
  {
   "cell_type": "code",
   "execution_count": 8,
   "id": "c75b4188",
   "metadata": {},
   "outputs": [],
   "source": [
    "features_train, features_test, target_train, target_test = train_test_split(features, target, test_size=0.33, random_state=12345)"
   ]
  },
  {
   "cell_type": "code",
   "execution_count": 9,
   "id": "db353d3d",
   "metadata": {},
   "outputs": [],
   "source": [
    "features_train_enc, features_test_enc = prepare_inputs(features_train, features_test)"
   ]
  },
  {
   "cell_type": "code",
   "execution_count": 10,
   "id": "8975b9ec",
   "metadata": {},
   "outputs": [
    {
     "name": "stderr",
     "output_type": "stream",
     "text": [
      "D:\\Packages\\envs\\tensorflow\\lib\\site-packages\\sklearn\\utils\\validation.py:63: DataConversionWarning: A column-vector y was passed when a 1d array was expected. Please change the shape of y to (n_samples, ), for example using ravel().\n",
      "  return f(*args, **kwargs)\n"
     ]
    }
   ],
   "source": [
    "target_train_enc, target_test_enc = prepare_targets(target_train, target_test)"
   ]
  },
  {
   "cell_type": "code",
   "execution_count": 12,
   "id": "b1530aef",
   "metadata": {},
   "outputs": [],
   "source": [
    "model = Sequential()\n",
    "model.add(Dense(10, input_dim=features_train_enc.shape[1], activation='relu', kernel_initializer='he_normal'))\n",
    "model.add(Dense(1, activation='sigmoid'))"
   ]
  },
  {
   "cell_type": "code",
   "execution_count": 13,
   "id": "06991a76",
   "metadata": {},
   "outputs": [],
   "source": [
    "model.compile(loss='binary_crossentropy', optimizer='adam', metrics=['accuracy'])"
   ]
  },
  {
   "cell_type": "code",
   "execution_count": 14,
   "id": "5c62818c",
   "metadata": {},
   "outputs": [
    {
     "name": "stdout",
     "output_type": "stream",
     "text": [
      "Epoch 1/100\n"
     ]
    },
    {
     "name": "stderr",
     "output_type": "stream",
     "text": [
      "D:\\Packages\\envs\\tensorflow\\lib\\site-packages\\tensorflow\\python\\framework\\indexed_slices.py:449: UserWarning: Converting sparse IndexedSlices(IndexedSlices(indices=Tensor(\"gradient_tape/sequential_1/dense/embedding_lookup_sparse/Reshape_1:0\", shape=(None,), dtype=int32), values=Tensor(\"gradient_tape/sequential_1/dense/embedding_lookup_sparse/Reshape:0\", shape=(None, 10), dtype=float32), dense_shape=Tensor(\"gradient_tape/sequential_1/dense/embedding_lookup_sparse/Cast:0\", shape=(2,), dtype=int32))) to a dense Tensor of unknown shape. This may consume a large amount of memory.\n",
      "  \"shape. This may consume a large amount of memory.\" % value)\n"
     ]
    },
    {
     "name": "stdout",
     "output_type": "stream",
     "text": [
      "12/12 - 24s - loss: 0.6228 - accuracy: 0.6963\n",
      "Epoch 2/100\n",
      "12/12 - 0s - loss: 0.6113 - accuracy: 0.6963\n",
      "Epoch 3/100\n",
      "12/12 - 0s - loss: 0.6010 - accuracy: 0.7016\n",
      "Epoch 4/100\n",
      "12/12 - 0s - loss: 0.5928 - accuracy: 0.7016\n",
      "Epoch 5/100\n",
      "12/12 - 0s - loss: 0.5851 - accuracy: 0.7068\n",
      "Epoch 6/100\n",
      "12/12 - 0s - loss: 0.5784 - accuracy: 0.7120\n",
      "Epoch 7/100\n",
      "12/12 - 0s - loss: 0.5719 - accuracy: 0.7120\n",
      "Epoch 8/100\n",
      "12/12 - 0s - loss: 0.5662 - accuracy: 0.7225\n",
      "Epoch 9/100\n",
      "12/12 - 0s - loss: 0.5607 - accuracy: 0.7225\n",
      "Epoch 10/100\n",
      "12/12 - 0s - loss: 0.5555 - accuracy: 0.7330\n",
      "Epoch 11/100\n",
      "12/12 - 0s - loss: 0.5496 - accuracy: 0.7330\n",
      "Epoch 12/100\n",
      "12/12 - 0s - loss: 0.5451 - accuracy: 0.7382\n",
      "Epoch 13/100\n",
      "12/12 - 0s - loss: 0.5412 - accuracy: 0.7382\n",
      "Epoch 14/100\n",
      "12/12 - 0s - loss: 0.5355 - accuracy: 0.7382\n",
      "Epoch 15/100\n",
      "12/12 - 0s - loss: 0.5307 - accuracy: 0.7382\n",
      "Epoch 16/100\n",
      "12/12 - 0s - loss: 0.5266 - accuracy: 0.7330\n",
      "Epoch 17/100\n",
      "12/12 - 0s - loss: 0.5225 - accuracy: 0.7330\n",
      "Epoch 18/100\n",
      "12/12 - 0s - loss: 0.5185 - accuracy: 0.7435\n",
      "Epoch 19/100\n",
      "12/12 - 0s - loss: 0.5145 - accuracy: 0.7487\n",
      "Epoch 20/100\n",
      "12/12 - 0s - loss: 0.5109 - accuracy: 0.7435\n",
      "Epoch 21/100\n",
      "12/12 - 0s - loss: 0.5076 - accuracy: 0.7435\n",
      "Epoch 22/100\n",
      "12/12 - 0s - loss: 0.5042 - accuracy: 0.7592\n",
      "Epoch 23/100\n",
      "12/12 - 0s - loss: 0.5014 - accuracy: 0.7539\n",
      "Epoch 24/100\n",
      "12/12 - 0s - loss: 0.4984 - accuracy: 0.7644\n",
      "Epoch 25/100\n",
      "12/12 - 0s - loss: 0.4955 - accuracy: 0.7696\n",
      "Epoch 26/100\n",
      "12/12 - 0s - loss: 0.4934 - accuracy: 0.7696\n",
      "Epoch 27/100\n",
      "12/12 - 0s - loss: 0.4909 - accuracy: 0.7696\n",
      "Epoch 28/100\n",
      "12/12 - 0s - loss: 0.4883 - accuracy: 0.7696\n",
      "Epoch 29/100\n",
      "12/12 - 0s - loss: 0.4852 - accuracy: 0.7696\n",
      "Epoch 30/100\n",
      "12/12 - 0s - loss: 0.4832 - accuracy: 0.7749\n",
      "Epoch 31/100\n",
      "12/12 - 0s - loss: 0.4806 - accuracy: 0.7749\n",
      "Epoch 32/100\n",
      "12/12 - 0s - loss: 0.4783 - accuracy: 0.7749\n",
      "Epoch 33/100\n",
      "12/12 - 0s - loss: 0.4769 - accuracy: 0.7801\n",
      "Epoch 34/100\n",
      "12/12 - 0s - loss: 0.4742 - accuracy: 0.7801\n",
      "Epoch 35/100\n",
      "12/12 - 0s - loss: 0.4722 - accuracy: 0.7801\n",
      "Epoch 36/100\n",
      "12/12 - 0s - loss: 0.4705 - accuracy: 0.7853\n",
      "Epoch 37/100\n",
      "12/12 - 0s - loss: 0.4680 - accuracy: 0.7801\n",
      "Epoch 38/100\n",
      "12/12 - 0s - loss: 0.4662 - accuracy: 0.7801\n",
      "Epoch 39/100\n",
      "12/12 - 0s - loss: 0.4642 - accuracy: 0.7906\n",
      "Epoch 40/100\n",
      "12/12 - 0s - loss: 0.4628 - accuracy: 0.7958\n",
      "Epoch 41/100\n",
      "12/12 - 0s - loss: 0.4603 - accuracy: 0.7958\n",
      "Epoch 42/100\n",
      "12/12 - 0s - loss: 0.4588 - accuracy: 0.8010\n",
      "Epoch 43/100\n",
      "12/12 - 0s - loss: 0.4565 - accuracy: 0.8063\n",
      "Epoch 44/100\n",
      "12/12 - 0s - loss: 0.4547 - accuracy: 0.8063\n",
      "Epoch 45/100\n",
      "12/12 - 0s - loss: 0.4528 - accuracy: 0.8063\n",
      "Epoch 46/100\n",
      "12/12 - 0s - loss: 0.4508 - accuracy: 0.8115\n",
      "Epoch 47/100\n",
      "12/12 - 0s - loss: 0.4491 - accuracy: 0.8168\n",
      "Epoch 48/100\n",
      "12/12 - 0s - loss: 0.4475 - accuracy: 0.8115\n",
      "Epoch 49/100\n",
      "12/12 - 0s - loss: 0.4456 - accuracy: 0.8220\n",
      "Epoch 50/100\n",
      "12/12 - 0s - loss: 0.4438 - accuracy: 0.8168\n",
      "Epoch 51/100\n",
      "12/12 - 0s - loss: 0.4418 - accuracy: 0.8115\n",
      "Epoch 52/100\n",
      "12/12 - 0s - loss: 0.4402 - accuracy: 0.8115\n",
      "Epoch 53/100\n",
      "12/12 - 0s - loss: 0.4387 - accuracy: 0.8115\n",
      "Epoch 54/100\n",
      "12/12 - 0s - loss: 0.4371 - accuracy: 0.8115\n",
      "Epoch 55/100\n",
      "12/12 - 0s - loss: 0.4350 - accuracy: 0.8115\n",
      "Epoch 56/100\n",
      "12/12 - 0s - loss: 0.4334 - accuracy: 0.8115\n",
      "Epoch 57/100\n",
      "12/12 - 0s - loss: 0.4320 - accuracy: 0.8115\n",
      "Epoch 58/100\n",
      "12/12 - 0s - loss: 0.4299 - accuracy: 0.8063\n",
      "Epoch 59/100\n",
      "12/12 - 0s - loss: 0.4285 - accuracy: 0.8115\n",
      "Epoch 60/100\n",
      "12/12 - 0s - loss: 0.4267 - accuracy: 0.8115\n",
      "Epoch 61/100\n",
      "12/12 - 0s - loss: 0.4248 - accuracy: 0.8115\n",
      "Epoch 62/100\n",
      "12/12 - 0s - loss: 0.4233 - accuracy: 0.8168\n",
      "Epoch 63/100\n",
      "12/12 - 0s - loss: 0.4215 - accuracy: 0.8168\n",
      "Epoch 64/100\n",
      "12/12 - 0s - loss: 0.4194 - accuracy: 0.8168\n",
      "Epoch 65/100\n",
      "12/12 - 0s - loss: 0.4176 - accuracy: 0.8168\n",
      "Epoch 66/100\n",
      "12/12 - 0s - loss: 0.4161 - accuracy: 0.8168\n",
      "Epoch 67/100\n",
      "12/12 - 0s - loss: 0.4144 - accuracy: 0.8168\n",
      "Epoch 68/100\n",
      "12/12 - 0s - loss: 0.4125 - accuracy: 0.8220\n",
      "Epoch 69/100\n",
      "12/12 - 0s - loss: 0.4110 - accuracy: 0.8272\n",
      "Epoch 70/100\n",
      "12/12 - 0s - loss: 0.4091 - accuracy: 0.8272\n",
      "Epoch 71/100\n",
      "12/12 - 0s - loss: 0.4078 - accuracy: 0.8325\n",
      "Epoch 72/100\n",
      "12/12 - 0s - loss: 0.4055 - accuracy: 0.8325\n",
      "Epoch 73/100\n",
      "12/12 - 0s - loss: 0.4047 - accuracy: 0.8377\n",
      "Epoch 74/100\n",
      "12/12 - 0s - loss: 0.4021 - accuracy: 0.8377\n",
      "Epoch 75/100\n",
      "12/12 - 0s - loss: 0.4004 - accuracy: 0.8534\n",
      "Epoch 76/100\n",
      "12/12 - 0s - loss: 0.3988 - accuracy: 0.8586\n",
      "Epoch 77/100\n",
      "12/12 - 0s - loss: 0.3967 - accuracy: 0.8586\n",
      "Epoch 78/100\n",
      "12/12 - 0s - loss: 0.3957 - accuracy: 0.8534\n",
      "Epoch 79/100\n",
      "12/12 - 0s - loss: 0.3932 - accuracy: 0.8586\n",
      "Epoch 80/100\n",
      "12/12 - 0s - loss: 0.3918 - accuracy: 0.8534\n",
      "Epoch 81/100\n",
      "12/12 - 0s - loss: 0.3906 - accuracy: 0.8639\n",
      "Epoch 82/100\n",
      "12/12 - 0s - loss: 0.3884 - accuracy: 0.8639\n",
      "Epoch 83/100\n",
      "12/12 - 0s - loss: 0.3865 - accuracy: 0.8586\n",
      "Epoch 84/100\n",
      "12/12 - 0s - loss: 0.3849 - accuracy: 0.8639\n",
      "Epoch 85/100\n",
      "12/12 - 0s - loss: 0.3836 - accuracy: 0.8639\n",
      "Epoch 86/100\n",
      "12/12 - 0s - loss: 0.3815 - accuracy: 0.8639\n",
      "Epoch 87/100\n",
      "12/12 - 0s - loss: 0.3800 - accuracy: 0.8639\n",
      "Epoch 88/100\n",
      "12/12 - 0s - loss: 0.3783 - accuracy: 0.8639\n",
      "Epoch 89/100\n",
      "12/12 - 0s - loss: 0.3766 - accuracy: 0.8639\n",
      "Epoch 90/100\n",
      "12/12 - 0s - loss: 0.3750 - accuracy: 0.8691\n",
      "Epoch 91/100\n",
      "12/12 - 0s - loss: 0.3730 - accuracy: 0.8691\n",
      "Epoch 92/100\n",
      "12/12 - 0s - loss: 0.3713 - accuracy: 0.8691\n",
      "Epoch 93/100\n",
      "12/12 - 0s - loss: 0.3697 - accuracy: 0.8691\n",
      "Epoch 94/100\n",
      "12/12 - 0s - loss: 0.3676 - accuracy: 0.8691\n",
      "Epoch 95/100\n",
      "12/12 - 0s - loss: 0.3658 - accuracy: 0.8743\n",
      "Epoch 96/100\n",
      "12/12 - 0s - loss: 0.3648 - accuracy: 0.8743\n",
      "Epoch 97/100\n",
      "12/12 - 0s - loss: 0.3626 - accuracy: 0.8743\n",
      "Epoch 98/100\n",
      "12/12 - 0s - loss: 0.3607 - accuracy: 0.8743\n",
      "Epoch 99/100\n",
      "12/12 - 0s - loss: 0.3587 - accuracy: 0.8743\n",
      "Epoch 100/100\n",
      "12/12 - 0s - loss: 0.3570 - accuracy: 0.8743\n"
     ]
    },
    {
     "data": {
      "text/plain": [
       "<keras.callbacks.History at 0x21488e0c888>"
      ]
     },
     "execution_count": 14,
     "metadata": {},
     "output_type": "execute_result"
    }
   ],
   "source": [
    "model.fit(features_train_enc, target_train_enc, epochs=100, batch_size=16, verbose=2)"
   ]
  },
  {
   "cell_type": "code",
   "execution_count": 15,
   "id": "2adf651a",
   "metadata": {},
   "outputs": [
    {
     "name": "stdout",
     "output_type": "stream",
     "text": [
      "Accuracy: 64.21\n"
     ]
    }
   ],
   "source": [
    "_, accuracy = model.evaluate(features_test_enc, target_test_enc, verbose=0)\n",
    "print('Accuracy: %.2f' % (accuracy*100))"
   ]
  },
  {
   "cell_type": "code",
   "execution_count": null,
   "id": "b83b1897",
   "metadata": {},
   "outputs": [],
   "source": []
  }
 ],
 "metadata": {
  "kernelspec": {
   "display_name": "Python 3",
   "language": "python",
   "name": "python3"
  },
  "language_info": {
   "codemirror_mode": {
    "name": "ipython",
    "version": 3
   },
   "file_extension": ".py",
   "mimetype": "text/x-python",
   "name": "python",
   "nbconvert_exporter": "python",
   "pygments_lexer": "ipython3",
   "version": "3.7.10"
  }
 },
 "nbformat": 4,
 "nbformat_minor": 5
}
