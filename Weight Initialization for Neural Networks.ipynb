{
 "cells": [
  {
   "cell_type": "markdown",
   "id": "95693299",
   "metadata": {},
   "source": [
    "### Xavier Weight Initialization"
   ]
  },
  {
   "cell_type": "code",
   "execution_count": 1,
   "id": "6ea53c3d",
   "metadata": {},
   "outputs": [],
   "source": [
    "from math import sqrt\n",
    "from numpy import mean\n",
    "from numpy.random import rand\n",
    "from numpy.random import randn\n",
    "import matplotlib.pyplot as plt"
   ]
  },
  {
   "cell_type": "code",
   "execution_count": 2,
   "id": "287d5b41",
   "metadata": {},
   "outputs": [],
   "source": [
    "n = 10"
   ]
  },
  {
   "cell_type": "code",
   "execution_count": 3,
   "id": "32ae6aa9",
   "metadata": {},
   "outputs": [],
   "source": [
    "# calculate the range for the weights\n",
    "lower, upper = -(1.0 / sqrt(n)), (1.0 / sqrt(n))"
   ]
  },
  {
   "cell_type": "code",
   "execution_count": 4,
   "id": "7dbec159",
   "metadata": {},
   "outputs": [],
   "source": [
    "# generate random numbers\n",
    "numbers = rand(1000)"
   ]
  },
  {
   "cell_type": "code",
   "execution_count": 5,
   "id": "0158214a",
   "metadata": {},
   "outputs": [],
   "source": [
    "# scale to the desired range\n",
    "scaled = lower + numbers * (upper - lower)"
   ]
  },
  {
   "cell_type": "code",
   "execution_count": 6,
   "id": "d03cb0ca",
   "metadata": {},
   "outputs": [
    {
     "name": "stdout",
     "output_type": "stream",
     "text": [
      "-0.31622776601683794 0.31622776601683794\n",
      "-0.3160713035115739 0.31563441200430536\n",
      "-0.0042859649949060314 0.18006166245575794\n"
     ]
    }
   ],
   "source": [
    "# summarize\n",
    "print(lower, upper)\n",
    "print(scaled.min(), scaled.max())\n",
    "print(scaled.mean(), scaled.std())"
   ]
  },
  {
   "cell_type": "code",
   "execution_count": 7,
   "id": "58a994e5",
   "metadata": {},
   "outputs": [],
   "source": [
    "values = [i for i in range(1,101)]\n",
    "results = [1.0/sqrt(n) for n in values]"
   ]
  },
  {
   "cell_type": "code",
   "execution_count": 8,
   "id": "b8474479",
   "metadata": {},
   "outputs": [
    {
     "data": {
      "image/png": "[encoded data removed]",
      "text/plain": [
       "<Figure size 432x288 with 1 Axes>"
      ]
     },
     "metadata": {
      "needs_background": "light"
     },
     "output_type": "display_data"
    }
   ],
   "source": [
    "plt.errorbar(values, [0.0 for _ in values], yerr=results)\n",
    "plt.show()"
   ]
  },
  {
   "cell_type": "markdown",
   "id": "358abbaa",
   "metadata": {},
   "source": [
    "### Normalized Xavier Weight Initialization"
   ]
  },
  {
   "cell_type": "code",
   "execution_count": 9,
   "id": "e08beb1a",
   "metadata": {},
   "outputs": [],
   "source": [
    "# number of nodes in the previous layer\n",
    "n = 10\n",
    "# number of nodes in the next layer\n",
    "m = 20"
   ]
  },
  {
   "cell_type": "code",
   "execution_count": 10,
   "id": "c05430f6",
   "metadata": {},
   "outputs": [],
   "source": [
    "lower, upper = -(sqrt(6.0) / sqrt(n + m)), (sqrt(6.0) / sqrt(n + m))"
   ]
  },
  {
   "cell_type": "code",
   "execution_count": 11,
   "id": "c0f4be92",
   "metadata": {},
   "outputs": [],
   "source": [
    "numbers = rand(1000)"
   ]
  },
  {
   "cell_type": "code",
   "execution_count": 12,
   "id": "870c16e8",
   "metadata": {},
   "outputs": [],
   "source": [
    "scaled = lower + numbers * (upper - lower)"
   ]
  },
  {
   "cell_type": "code",
   "execution_count": 13,
   "id": "0a7fa5b0",
   "metadata": {},
   "outputs": [
    {
     "name": "stdout",
     "output_type": "stream",
     "text": [
      "-0.44721359549995787 0.44721359549995787\n",
      "-0.44671156884832836 0.44653269622795666\n",
      "0.006438727630535624 0.26090315874501446\n"
     ]
    }
   ],
   "source": [
    "print(lower, upper)\n",
    "print(scaled.min(), scaled.max())\n",
    "print(scaled.mean(), scaled.std())"
   ]
  },
  {
   "cell_type": "code",
   "execution_count": 14,
   "id": "51266c7a",
   "metadata": {},
   "outputs": [],
   "source": [
    "values = [i for i in range(1, 101)]"
   ]
  },
  {
   "cell_type": "code",
   "execution_count": 15,
   "id": "cb687384",
   "metadata": {},
   "outputs": [],
   "source": [
    "m = 10"
   ]
  },
  {
   "cell_type": "code",
   "execution_count": 16,
   "id": "2efd1091",
   "metadata": {},
   "outputs": [],
   "source": [
    "results = [1.0 / sqrt(n + m) for n in values]"
   ]
  },
  {
   "cell_type": "code",
   "execution_count": 17,
   "id": "70e8896b",
   "metadata": {},
   "outputs": [
    {
     "data": {
      "image/png": "[encoded data removed]",
      "text/plain": [
       "<Figure size 432x288 with 1 Axes>"
      ]
     },
     "metadata": {
      "needs_background": "light"
     },
     "output_type": "display_data"
    }
   ],
   "source": [
    "plt.errorbar(values, [0.0 for _ in values], yerr=results)\n",
    "plt.show()"
   ]
  },
  {
   "cell_type": "markdown",
   "id": "21767da8",
   "metadata": {},
   "source": [
    "### Weight Initialization for ReLU"
   ]
  },
  {
   "cell_type": "code",
   "execution_count": 18,
   "id": "1f5c8b35",
   "metadata": {},
   "outputs": [],
   "source": [
    "# number of nodes in the previous layer\n",
    "n = 10\n",
    "# calculate the range for the weights\n",
    "std = sqrt(2.0 / n)"
   ]
  },
  {
   "cell_type": "code",
   "execution_count": 19,
   "id": "8ddbbade",
   "metadata": {},
   "outputs": [],
   "source": [
    "# generate random numbers\n",
    "numbers = randn(1000)"
   ]
  },
  {
   "cell_type": "code",
   "execution_count": 20,
   "id": "b7fb84d4",
   "metadata": {},
   "outputs": [],
   "source": [
    "scaled = numbers * std"
   ]
  },
  {
   "cell_type": "code",
   "execution_count": 21,
   "id": "52073e3b",
   "metadata": {},
   "outputs": [
    {
     "name": "stdout",
     "output_type": "stream",
     "text": [
      "0.4472135954999579\n",
      "-1.5787905716882507 1.2924518036710966\n",
      "0.004122775224498826 0.4387500519589602\n"
     ]
    }
   ],
   "source": [
    "print(std)\n",
    "print(scaled.min(), scaled.max())\n",
    "print(scaled.mean(), scaled.std())"
   ]
  },
  {
   "cell_type": "code",
   "execution_count": 22,
   "id": "a2484681",
   "metadata": {},
   "outputs": [],
   "source": [
    "values = [i for i in range(1, 101)]"
   ]
  },
  {
   "cell_type": "code",
   "execution_count": 23,
   "id": "e6eccf51",
   "metadata": {},
   "outputs": [],
   "source": [
    "results = [sqrt(2.0 / n) for n in values]"
   ]
  },
  {
   "cell_type": "code",
   "execution_count": 24,
   "id": "83055630",
   "metadata": {},
   "outputs": [
    {
     "data": {
      "image/png": "[encoded data removed]",
      "text/plain": [
       "<Figure size 432x288 with 1 Axes>"
      ]
     },
     "metadata": {
      "needs_background": "light"
     },
     "output_type": "display_data"
    }
   ],
   "source": [
    "plt.errorbar(values, [0.0 for _ in values], yerr=results)\n",
    "plt.show()"
   ]
  },
  {
   "cell_type": "code",
   "execution_count": null,
   "id": "94892fdb",
   "metadata": {},
   "outputs": [],
   "source": []
  }
 ],
 "metadata": {
  "kernelspec": {
   "display_name": "Python 3",
   "language": "python",
   "name": "python3"
  },
  "language_info": {
   "codemirror_mode": {
    "name": "ipython",
    "version": 3
   },
   "file_extension": ".py",
   "mimetype": "text/x-python",
   "name": "python",
   "nbconvert_exporter": "python",
   "pygments_lexer": "ipython3",
   "version": "3.7.10"
  }
 },
 "nbformat": 4,
 "nbformat_minor": 5
}
