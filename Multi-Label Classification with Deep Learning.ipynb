{
 "cells": [
  {
   "cell_type": "code",
   "execution_count": 1,
   "id": "d12dc01e",
   "metadata": {},
   "outputs": [],
   "source": [
    "from numpy import mean\n",
    "from numpy import std\n",
    "from sklearn.datasets import make_multilabel_classification\n",
    "from sklearn.model_selection import RepeatedKFold\n",
    "from keras.models import Sequential\n",
    "from keras.layers import Dense\n",
    "from sklearn.metrics import accuracy_score\n",
    "from numpy import asarray"
   ]
  },
  {
   "cell_type": "code",
   "execution_count": 2,
   "id": "ff882b03",
   "metadata": {},
   "outputs": [],
   "source": [
    "from sklearn.datasets import make_multilabel_classification"
   ]
  },
  {
   "cell_type": "code",
   "execution_count": 3,
   "id": "3ea86e62",
   "metadata": {},
   "outputs": [],
   "source": [
    "features,target = make_multilabel_classification(n_samples=1000,n_features=10,n_classes=3,n_labels=2,random_state=12345)"
   ]
  },
  {
   "cell_type": "code",
   "execution_count": 4,
   "id": "9dce6d40",
   "metadata": {},
   "outputs": [
    {
     "name": "stdout",
     "output_type": "stream",
     "text": [
      "(1000, 10) (1000, 3)\n"
     ]
    }
   ],
   "source": [
    "print(features.shape, target.shape)"
   ]
  },
  {
   "cell_type": "code",
   "execution_count": 5,
   "id": "975140f6",
   "metadata": {},
   "outputs": [
    {
     "name": "stdout",
     "output_type": "stream",
     "text": [
      "[6. 4. 7. 2. 2. 9. 5. 3. 5. 7.] [0 0 0]\n",
      "[1. 7. 4. 2. 9. 3. 1. 3. 3. 3.] [1 1 0]\n",
      "[2. 8. 7. 0. 5. 5. 2. 8. 7. 6.] [1 1 1]\n",
      "[ 5. 11. 10.  1. 11.  7.  7.  5.  3.  2.] [1 0 1]\n",
      "[4. 7. 7. 0. 9. 9. 9. 6. 1. 0.] [1 0 0]\n",
      "[3. 4. 4. 0. 9. 4. 7. 6. 3. 5.] [1 1 1]\n",
      "[ 1.  9.  9.  0.  2.  4.  9. 11.  9.  0.] [1 0 0]\n",
      "[9. 5. 6. 4. 6. 2. 4. 4. 7. 2.] [0 0 0]\n",
      "[ 2.  9.  5.  0.  6. 11.  4.  3.  5.  1.] [1 0 0]\n",
      "[ 2. 10.  9.  1.  7. 12.  6.  5. 10.  0.] [1 0 0]\n"
     ]
    }
   ],
   "source": [
    "for i in range(10):\n",
    "    print(features[i], target[i])"
   ]
  },
  {
   "cell_type": "code",
   "execution_count": 6,
   "id": "dd6304e3",
   "metadata": {},
   "outputs": [],
   "source": [
    "n_inputs, n_outputs = features.shape[1], target.shape[1]"
   ]
  },
  {
   "cell_type": "code",
   "execution_count": 7,
   "id": "854aeb11",
   "metadata": {},
   "outputs": [],
   "source": [
    "def get_model(n_inputs, n_outputs):\n",
    "    model = Sequential()\n",
    "    model.add(Dense(20, input_dim=n_inputs, kernel_initializer='he_uniform', activation='relu'))\n",
    "    model.add(Dense(n_outputs, activation='sigmoid'))\n",
    "    model.compile(loss='binary_crossentropy', optimizer='adam')\n",
    "    return model"
   ]
  },
  {
   "cell_type": "code",
   "execution_count": 8,
   "id": "e7bcde6d",
   "metadata": {},
   "outputs": [],
   "source": [
    "model = get_model(n_inputs, n_outputs)"
   ]
  },
  {
   "cell_type": "code",
   "execution_count": 9,
   "id": "2691f2f3",
   "metadata": {},
   "outputs": [
    {
     "data": {
      "text/plain": [
       "<keras.callbacks.History at 0x1dc098bef08>"
      ]
     },
     "execution_count": 9,
     "metadata": {},
     "output_type": "execute_result"
    }
   ],
   "source": [
    "model.fit(features,target, verbose=0, epochs=200)"
   ]
  },
  {
   "cell_type": "code",
   "execution_count": 10,
   "id": "4d1cae9b",
   "metadata": {},
   "outputs": [
    {
     "name": "stdout",
     "output_type": "stream",
     "text": [
      "Predicted: [0.00034785 0.00306252 0.00173995]\n"
     ]
    }
   ],
   "source": [
    "new_pred = [3, 3, 6, 7, 8, 2, 11, 11, 1, 3]\n",
    "newX = asarray([new_pred])\n",
    "pred = model.predict(newX)\n",
    "print('Predicted: %s' % pred[0])"
   ]
  },
  {
   "cell_type": "code",
   "execution_count": null,
   "id": "5417f0cd",
   "metadata": {},
   "outputs": [],
   "source": []
  }
 ],
 "metadata": {
  "kernelspec": {
   "display_name": "Python 3",
   "language": "python",
   "name": "python3"
  },
  "language_info": {
   "codemirror_mode": {
    "name": "ipython",
    "version": 3
   },
   "file_extension": ".py",
   "mimetype": "text/x-python",
   "name": "python",
   "nbconvert_exporter": "python",
   "pygments_lexer": "ipython3",
   "version": "3.7.10"
  }
 },
 "nbformat": 4,
 "nbformat_minor": 5
}
