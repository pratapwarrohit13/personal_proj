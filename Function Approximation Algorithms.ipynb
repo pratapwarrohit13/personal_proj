{
 "cells": [
  {
   "cell_type": "code",
   "execution_count": 1,
   "id": "bf12edd1",
   "metadata": {},
   "outputs": [],
   "source": [
    "from sklearn.preprocessing import MinMaxScaler\n",
    "from sklearn.metrics import mean_squared_error\n",
    "from keras.models import Sequential\n",
    "from keras.layers import Dense\n",
    "from numpy import asarray\n",
    "import matplotlib.pyplot as plt"
   ]
  },
  {
   "cell_type": "code",
   "execution_count": 3,
   "id": "bc7e0059",
   "metadata": {},
   "outputs": [],
   "source": [
    "features = asarray([i for i in range(-50,51)])\n",
    "target = asarray([i**2.0 for i in features])"
   ]
  },
  {
   "cell_type": "code",
   "execution_count": 4,
   "id": "a2ab95f3",
   "metadata": {},
   "outputs": [
    {
     "name": "stdout",
     "output_type": "stream",
     "text": [
      "-50 50 0.0 2500.0\n"
     ]
    }
   ],
   "source": [
    "print(features.min(), features.max(), target.min(), target.max())"
   ]
  },
  {
   "cell_type": "code",
   "execution_count": 5,
   "id": "a4e992b9",
   "metadata": {},
   "outputs": [],
   "source": [
    "features = features.reshape((len(features), 1))\n",
    "target = target.reshape((len(target), 1))"
   ]
  },
  {
   "cell_type": "code",
   "execution_count": 6,
   "id": "123f555f",
   "metadata": {},
   "outputs": [
    {
     "name": "stdout",
     "output_type": "stream",
     "text": [
      "0.0 1.0 0.0 1.0\n"
     ]
    }
   ],
   "source": [
    "scale_x = MinMaxScaler()\n",
    "features = scale_x.fit_transform(features)\n",
    "scale_y = MinMaxScaler()\n",
    "target = scale_y.fit_transform(target)\n",
    "print(features.min(), features.max(), target.min(), target.max())"
   ]
  },
  {
   "cell_type": "code",
   "execution_count": 7,
   "id": "ef7488e8",
   "metadata": {},
   "outputs": [],
   "source": [
    "model = Sequential()\n",
    "model.add(Dense(10, input_dim=1, activation='relu', kernel_initializer='he_uniform'))\n",
    "model.add(Dense(10, activation='relu', kernel_initializer='he_uniform'))\n",
    "model.add(Dense(1))"
   ]
  },
  {
   "cell_type": "code",
   "execution_count": 8,
   "id": "ee5794db",
   "metadata": {},
   "outputs": [],
   "source": [
    "model.compile(loss='mse', optimizer='adam')"
   ]
  },
  {
   "cell_type": "code",
   "execution_count": 10,
   "id": "81bad26f",
   "metadata": {},
   "outputs": [
    {
     "data": {
      "text/plain": [
       "<keras.callbacks.History at 0x1e1d362bd48>"
      ]
     },
     "execution_count": 10,
     "metadata": {},
     "output_type": "execute_result"
    }
   ],
   "source": [
    "model.fit(features, target, epochs=500, batch_size=10, verbose=0)"
   ]
  },
  {
   "cell_type": "code",
   "execution_count": 11,
   "id": "1172831f",
   "metadata": {},
   "outputs": [],
   "source": [
    "pred = model.predict(features)"
   ]
  },
  {
   "cell_type": "code",
   "execution_count": 13,
   "id": "b2c9f6c1",
   "metadata": {},
   "outputs": [],
   "source": [
    "features_plot = scale_x.inverse_transform(features)\n",
    "target_plot = scale_y.inverse_transform(target)\n",
    "pred_plot = scale_y.inverse_transform(pred)"
   ]
  },
  {
   "cell_type": "code",
   "execution_count": 14,
   "id": "c313e345",
   "metadata": {},
   "outputs": [
    {
     "name": "stdout",
     "output_type": "stream",
     "text": [
      "MSE: 1056.542\n"
     ]
    }
   ],
   "source": [
    "print('MSE: %.3f' % mean_squared_error(target_plot, pred_plot))"
   ]
  },
  {
   "cell_type": "code",
   "execution_count": 15,
   "id": "e29549e2",
   "metadata": {},
   "outputs": [
    {
     "data": {
      "image/png": "[encoded data removed]",
      "text/plain": [
       "<Figure size 432x288 with 1 Axes>"
      ]
     },
     "metadata": {
      "needs_background": "light"
     },
     "output_type": "display_data"
    }
   ],
   "source": [
    "plt.scatter(features_plot,target_plot, label='Actual')\n",
    "# plot x vs yhat\n",
    "plt.scatter(features_plot,pred_plot, label='Predicted')\n",
    "plt.title('Input (x) versus Output (y)')\n",
    "plt.xlabel('Input Variable (x)')\n",
    "plt.ylabel('Output Variable (y)')\n",
    "plt.legend()\n",
    "plt.show()"
   ]
  },
  {
   "cell_type": "code",
   "execution_count": null,
   "id": "ea136852",
   "metadata": {},
   "outputs": [],
   "source": []
  }
 ],
 "metadata": {
  "kernelspec": {
   "display_name": "Python 3",
   "language": "python",
   "name": "python3"
  },
  "language_info": {
   "codemirror_mode": {
    "name": "ipython",
    "version": 3
   },
   "file_extension": ".py",
   "mimetype": "text/x-python",
   "name": "python",
   "nbconvert_exporter": "python",
   "pygments_lexer": "ipython3",
   "version": "3.7.10"
  }
 },
 "nbformat": 4,
 "nbformat_minor": 5
}
