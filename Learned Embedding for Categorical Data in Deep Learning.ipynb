{
 "cells": [
  {
   "cell_type": "code",
   "execution_count": 1,
   "id": "c56721cc",
   "metadata": {},
   "outputs": [],
   "source": [
    "from numpy import unique\n",
    "import pandas as pd\n",
    "from sklearn.model_selection import train_test_split\n",
    "from sklearn.preprocessing import LabelEncoder\n",
    "from keras.models import Model\n",
    "from keras.layers import Input\n",
    "from keras.layers import Dense\n",
    "from keras.layers import Embedding\n",
    "from keras.layers.merge import concatenate"
   ]
  },
  {
   "cell_type": "code",
   "execution_count": 2,
   "id": "121e4b49",
   "metadata": {},
   "outputs": [],
   "source": [
    "def load_dataset(path):\n",
    "    # load the dataset as a pandas DataFrame\n",
    "    df = pd.read_csv(path, header=None)\n",
    "    # retrieve numpy array\n",
    "    df = df.values\n",
    "    # split into input (X) and output (y) variables\n",
    "    features = df[:, :-1]\n",
    "    target = df[:,-1]\n",
    "    # format all fields as string\n",
    "    features = features.astype(str)\n",
    "    # reshape target to be a 2d array\n",
    "    target = target.reshape((len(target), 1))\n",
    "    return features, target"
   ]
  },
  {
   "cell_type": "code",
   "execution_count": 3,
   "id": "97a0c5c6",
   "metadata": {},
   "outputs": [],
   "source": [
    "def prepare_inputs(features_train, features_test):\n",
    "    features_train_enc, features_test_enc = list(), list()\n",
    "    # label encode each column\n",
    "    for i in range(features_train.shape[1]):\n",
    "        le = LabelEncoder()\n",
    "        le.fit(features_train[:, i])\n",
    "        # encode\n",
    "        train_enc = le.transform(features_train[:, i])\n",
    "        test_enc = le.transform(features_test[:, i])\n",
    "        # store\n",
    "        features_train_enc.append(train_enc)\n",
    "        features_test_enc.append(test_enc)\n",
    "    return features_train_enc, features_test_enc"
   ]
  },
  {
   "cell_type": "code",
   "execution_count": 4,
   "id": "85a9cca8",
   "metadata": {},
   "outputs": [],
   "source": [
    "def prepare_targets(target_train, target_test):\n",
    "    le = LabelEncoder()\n",
    "    le.fit(target_train)\n",
    "    target_train_enc = le.transform(target_train)\n",
    "    target_test_enc = le.transform(target_test)\n",
    "    return target_train_enc, target_test_enc"
   ]
  },
  {
   "cell_type": "code",
   "execution_count": 5,
   "id": "0841ae3c",
   "metadata": {},
   "outputs": [],
   "source": [
    "features, target = load_dataset('D://DS//Stater_Projects//breastcancer.txt')"
   ]
  },
  {
   "cell_type": "code",
   "execution_count": 6,
   "id": "37609503",
   "metadata": {},
   "outputs": [],
   "source": [
    "features_train, features_test, target_train, target_test = train_test_split(features, target, test_size=0.33, random_state=12345)"
   ]
  },
  {
   "cell_type": "code",
   "execution_count": 7,
   "id": "f6041815",
   "metadata": {},
   "outputs": [],
   "source": [
    "features_train_enc, features_test_enc = prepare_inputs(features_train, features_test)"
   ]
  },
  {
   "cell_type": "code",
   "execution_count": 8,
   "id": "9c8cde69",
   "metadata": {},
   "outputs": [
    {
     "name": "stderr",
     "output_type": "stream",
     "text": [
      "D:\\Packages\\envs\\tensorflow\\lib\\site-packages\\sklearn\\utils\\validation.py:63: DataConversionWarning: A column-vector y was passed when a 1d array was expected. Please change the shape of y to (n_samples, ), for example using ravel().\n",
      "  return f(*args, **kwargs)\n"
     ]
    }
   ],
   "source": [
    "target_train_enc, target_test_enc = prepare_targets(target_train, target_test)"
   ]
  },
  {
   "cell_type": "code",
   "execution_count": 9,
   "id": "a8b38a61",
   "metadata": {},
   "outputs": [],
   "source": [
    "target_train_enc = target_train_enc.reshape((len(target_train_enc), 1, 1))\n",
    "target_test_enc = target_test_enc.reshape((len(target_test_enc), 1, 1))"
   ]
  },
  {
   "cell_type": "code",
   "execution_count": 10,
   "id": "72be6a16",
   "metadata": {},
   "outputs": [],
   "source": [
    "in_layers = list()\n",
    "em_layers = list()"
   ]
  },
  {
   "cell_type": "code",
   "execution_count": 11,
   "id": "1647046b",
   "metadata": {},
   "outputs": [],
   "source": [
    "for i in range(len(features_train_enc)):\n",
    "    # calculate the number of unique inputs\n",
    "    n_labels = len(unique(features_train_enc[i]))\n",
    "    # define input layer\n",
    "    in_layer = Input(shape=(1,))\n",
    "    # define embedding layer\n",
    "    em_layer = Embedding(n_labels, 10)(in_layer)\n",
    "    # store layers\n",
    "    in_layers.append(in_layer)\n",
    "    em_layers.append(em_layer)"
   ]
  },
  {
   "cell_type": "code",
   "execution_count": 12,
   "id": "683da4bf",
   "metadata": {},
   "outputs": [],
   "source": [
    "merge = concatenate(em_layers)\n",
    "dense = Dense(10, activation='relu', kernel_initializer='he_normal')(merge)\n",
    "output = Dense(1, activation='sigmoid')(dense)\n",
    "model = Model(inputs=in_layers, outputs=output)"
   ]
  },
  {
   "cell_type": "code",
   "execution_count": 13,
   "id": "35fb184d",
   "metadata": {},
   "outputs": [],
   "source": [
    "model.compile(loss='binary_crossentropy', optimizer='adam', metrics=['accuracy'])"
   ]
  },
  {
   "cell_type": "code",
   "execution_count": 14,
   "id": "ddc58edb",
   "metadata": {},
   "outputs": [
    {
     "name": "stdout",
     "output_type": "stream",
     "text": [
      "Epoch 1/100\n",
      "12/12 - 27s - loss: 0.6711 - accuracy: 0.6963\n",
      "Epoch 2/100\n",
      "12/12 - 0s - loss: 0.6404 - accuracy: 0.6911\n",
      "Epoch 3/100\n",
      "12/12 - 0s - loss: 0.6142 - accuracy: 0.6911\n",
      "Epoch 4/100\n",
      "12/12 - 0s - loss: 0.5933 - accuracy: 0.6911\n",
      "Epoch 5/100\n",
      "12/12 - 0s - loss: 0.5738 - accuracy: 0.6963\n",
      "Epoch 6/100\n",
      "12/12 - 0s - loss: 0.5612 - accuracy: 0.7120\n",
      "Epoch 7/100\n",
      "12/12 - 0s - loss: 0.5472 - accuracy: 0.7173\n",
      "Epoch 8/100\n",
      "12/12 - 0s - loss: 0.5374 - accuracy: 0.7330\n",
      "Epoch 9/100\n",
      "12/12 - 0s - loss: 0.5280 - accuracy: 0.7382\n",
      "Epoch 10/100\n",
      "12/12 - 0s - loss: 0.5191 - accuracy: 0.7539\n",
      "Epoch 11/100\n",
      "12/12 - 0s - loss: 0.5113 - accuracy: 0.7592\n",
      "Epoch 12/100\n",
      "12/12 - 0s - loss: 0.5045 - accuracy: 0.7644\n",
      "Epoch 13/100\n",
      "12/12 - 0s - loss: 0.4972 - accuracy: 0.7592\n",
      "Epoch 14/100\n",
      "12/12 - 0s - loss: 0.4938 - accuracy: 0.7644\n",
      "Epoch 15/100\n",
      "12/12 - 0s - loss: 0.4863 - accuracy: 0.7749\n",
      "Epoch 16/100\n",
      "12/12 - 0s - loss: 0.4818 - accuracy: 0.7906\n",
      "Epoch 17/100\n",
      "12/12 - 0s - loss: 0.4759 - accuracy: 0.7906\n",
      "Epoch 18/100\n",
      "12/12 - 0s - loss: 0.4723 - accuracy: 0.7906\n",
      "Epoch 19/100\n",
      "12/12 - 0s - loss: 0.4671 - accuracy: 0.8010\n",
      "Epoch 20/100\n",
      "12/12 - 0s - loss: 0.4627 - accuracy: 0.8063\n",
      "Epoch 21/100\n",
      "12/12 - 0s - loss: 0.4588 - accuracy: 0.8168\n",
      "Epoch 22/100\n",
      "12/12 - 0s - loss: 0.4551 - accuracy: 0.8168\n",
      "Epoch 23/100\n",
      "12/12 - 0s - loss: 0.4514 - accuracy: 0.8168\n",
      "Epoch 24/100\n",
      "12/12 - 0s - loss: 0.4478 - accuracy: 0.8115\n",
      "Epoch 25/100\n",
      "12/12 - 0s - loss: 0.4450 - accuracy: 0.8272\n",
      "Epoch 26/100\n",
      "12/12 - 0s - loss: 0.4430 - accuracy: 0.8325\n",
      "Epoch 27/100\n",
      "12/12 - 0s - loss: 0.4398 - accuracy: 0.8377\n",
      "Epoch 28/100\n",
      "12/12 - 0s - loss: 0.4364 - accuracy: 0.8325\n",
      "Epoch 29/100\n",
      "12/12 - 0s - loss: 0.4341 - accuracy: 0.8325\n",
      "Epoch 30/100\n",
      "12/12 - 0s - loss: 0.4310 - accuracy: 0.8377\n",
      "Epoch 31/100\n",
      "12/12 - 0s - loss: 0.4285 - accuracy: 0.8377\n",
      "Epoch 32/100\n",
      "12/12 - 0s - loss: 0.4269 - accuracy: 0.8429\n",
      "Epoch 33/100\n",
      "12/12 - 0s - loss: 0.4244 - accuracy: 0.8325\n",
      "Epoch 34/100\n",
      "12/12 - 0s - loss: 0.4217 - accuracy: 0.8325\n",
      "Epoch 35/100\n",
      "12/12 - 0s - loss: 0.4193 - accuracy: 0.8377\n",
      "Epoch 36/100\n",
      "12/12 - 0s - loss: 0.4170 - accuracy: 0.8325\n",
      "Epoch 37/100\n",
      "12/12 - 0s - loss: 0.4147 - accuracy: 0.8377\n",
      "Epoch 38/100\n",
      "12/12 - 0s - loss: 0.4123 - accuracy: 0.8377\n",
      "Epoch 39/100\n",
      "12/12 - 0s - loss: 0.4125 - accuracy: 0.8272\n",
      "Epoch 40/100\n",
      "12/12 - 0s - loss: 0.4092 - accuracy: 0.8325\n",
      "Epoch 41/100\n",
      "12/12 - 0s - loss: 0.4080 - accuracy: 0.8325\n",
      "Epoch 42/100\n",
      "12/12 - 0s - loss: 0.4064 - accuracy: 0.8377\n",
      "Epoch 43/100\n",
      "12/12 - 0s - loss: 0.4033 - accuracy: 0.8377\n",
      "Epoch 44/100\n",
      "12/12 - 0s - loss: 0.4021 - accuracy: 0.8325\n",
      "Epoch 45/100\n",
      "12/12 - 0s - loss: 0.4002 - accuracy: 0.8377\n",
      "Epoch 46/100\n",
      "12/12 - 0s - loss: 0.3989 - accuracy: 0.8325\n",
      "Epoch 47/100\n",
      "12/12 - 0s - loss: 0.3978 - accuracy: 0.8325\n",
      "Epoch 48/100\n",
      "12/12 - 0s - loss: 0.3953 - accuracy: 0.8325\n",
      "Epoch 49/100\n",
      "12/12 - 0s - loss: 0.3947 - accuracy: 0.8325\n",
      "Epoch 50/100\n",
      "12/12 - 0s - loss: 0.3933 - accuracy: 0.8377\n",
      "Epoch 51/100\n",
      "12/12 - 0s - loss: 0.3911 - accuracy: 0.8429\n",
      "Epoch 52/100\n",
      "12/12 - 0s - loss: 0.3903 - accuracy: 0.8429\n",
      "Epoch 53/100\n",
      "12/12 - 0s - loss: 0.3876 - accuracy: 0.8429\n",
      "Epoch 54/100\n",
      "12/12 - 0s - loss: 0.3867 - accuracy: 0.8429\n",
      "Epoch 55/100\n",
      "12/12 - 0s - loss: 0.3853 - accuracy: 0.8377\n",
      "Epoch 56/100\n",
      "12/12 - 0s - loss: 0.3822 - accuracy: 0.8482\n",
      "Epoch 57/100\n",
      "12/12 - 0s - loss: 0.3818 - accuracy: 0.8429\n",
      "Epoch 58/100\n",
      "12/12 - 0s - loss: 0.3800 - accuracy: 0.8482\n",
      "Epoch 59/100\n",
      "12/12 - 0s - loss: 0.3790 - accuracy: 0.8429\n",
      "Epoch 60/100\n",
      "12/12 - 0s - loss: 0.3772 - accuracy: 0.8429\n",
      "Epoch 61/100\n",
      "12/12 - 0s - loss: 0.3758 - accuracy: 0.8429\n",
      "Epoch 62/100\n",
      "12/12 - 0s - loss: 0.3746 - accuracy: 0.8429\n",
      "Epoch 63/100\n",
      "12/12 - 0s - loss: 0.3739 - accuracy: 0.8429\n",
      "Epoch 64/100\n",
      "12/12 - 0s - loss: 0.3708 - accuracy: 0.8482\n",
      "Epoch 65/100\n",
      "12/12 - 0s - loss: 0.3702 - accuracy: 0.8429\n",
      "Epoch 66/100\n",
      "12/12 - 0s - loss: 0.3685 - accuracy: 0.8429\n",
      "Epoch 67/100\n",
      "12/12 - 0s - loss: 0.3692 - accuracy: 0.8429\n",
      "Epoch 68/100\n",
      "12/12 - 0s - loss: 0.3655 - accuracy: 0.8429\n",
      "Epoch 69/100\n",
      "12/12 - 0s - loss: 0.3639 - accuracy: 0.8429\n",
      "Epoch 70/100\n",
      "12/12 - 0s - loss: 0.3628 - accuracy: 0.8377\n",
      "Epoch 71/100\n",
      "12/12 - 0s - loss: 0.3614 - accuracy: 0.8534\n",
      "Epoch 72/100\n",
      "12/12 - 0s - loss: 0.3616 - accuracy: 0.8429\n",
      "Epoch 73/100\n",
      "12/12 - 0s - loss: 0.3591 - accuracy: 0.8377\n",
      "Epoch 74/100\n",
      "12/12 - 0s - loss: 0.3570 - accuracy: 0.8482\n",
      "Epoch 75/100\n",
      "12/12 - 0s - loss: 0.3565 - accuracy: 0.8534\n",
      "Epoch 76/100\n",
      "12/12 - 0s - loss: 0.3548 - accuracy: 0.8534\n",
      "Epoch 77/100\n",
      "12/12 - 0s - loss: 0.3529 - accuracy: 0.8534\n",
      "Epoch 78/100\n",
      "12/12 - 0s - loss: 0.3516 - accuracy: 0.8534\n",
      "Epoch 79/100\n",
      "12/12 - 0s - loss: 0.3507 - accuracy: 0.8639\n",
      "Epoch 80/100\n",
      "12/12 - 0s - loss: 0.3492 - accuracy: 0.8534\n",
      "Epoch 81/100\n",
      "12/12 - 0s - loss: 0.3482 - accuracy: 0.8534\n",
      "Epoch 82/100\n",
      "12/12 - 0s - loss: 0.3469 - accuracy: 0.8586\n",
      "Epoch 83/100\n",
      "12/12 - 0s - loss: 0.3440 - accuracy: 0.8586\n",
      "Epoch 84/100\n",
      "12/12 - 0s - loss: 0.3429 - accuracy: 0.8534\n",
      "Epoch 85/100\n",
      "12/12 - 0s - loss: 0.3414 - accuracy: 0.8534\n",
      "Epoch 86/100\n",
      "12/12 - 0s - loss: 0.3397 - accuracy: 0.8639\n",
      "Epoch 87/100\n",
      "12/12 - 0s - loss: 0.3394 - accuracy: 0.8639\n",
      "Epoch 88/100\n",
      "12/12 - 0s - loss: 0.3374 - accuracy: 0.8639\n",
      "Epoch 89/100\n",
      "12/12 - 0s - loss: 0.3362 - accuracy: 0.8639\n",
      "Epoch 90/100\n",
      "12/12 - 0s - loss: 0.3351 - accuracy: 0.8639\n",
      "Epoch 91/100\n",
      "12/12 - 0s - loss: 0.3345 - accuracy: 0.8743\n",
      "Epoch 92/100\n",
      "12/12 - 0s - loss: 0.3330 - accuracy: 0.8691\n",
      "Epoch 93/100\n",
      "12/12 - 0s - loss: 0.3310 - accuracy: 0.8743\n",
      "Epoch 94/100\n",
      "12/12 - 0s - loss: 0.3299 - accuracy: 0.8743\n",
      "Epoch 95/100\n",
      "12/12 - 0s - loss: 0.3290 - accuracy: 0.8743\n",
      "Epoch 96/100\n",
      "12/12 - 0s - loss: 0.3290 - accuracy: 0.8796\n",
      "Epoch 97/100\n",
      "12/12 - 0s - loss: 0.3279 - accuracy: 0.8743\n",
      "Epoch 98/100\n",
      "12/12 - 0s - loss: 0.3246 - accuracy: 0.8743\n",
      "Epoch 99/100\n",
      "12/12 - 0s - loss: 0.3259 - accuracy: 0.8743\n",
      "Epoch 100/100\n",
      "12/12 - 0s - loss: 0.3259 - accuracy: 0.8743\n"
     ]
    },
    {
     "data": {
      "text/plain": [
       "<keras.callbacks.History at 0x1fc30010548>"
      ]
     },
     "execution_count": 14,
     "metadata": {},
     "output_type": "execute_result"
    }
   ],
   "source": [
    "model.fit(features_train_enc, target_train_enc, epochs=100, batch_size=16, verbose=2)"
   ]
  },
  {
   "cell_type": "code",
   "execution_count": 15,
   "id": "c80d1b88",
   "metadata": {},
   "outputs": [
    {
     "name": "stdout",
     "output_type": "stream",
     "text": [
      "Accuracy: 63.16\n"
     ]
    }
   ],
   "source": [
    "_, accuracy = model.evaluate(features_test_enc, target_test_enc, verbose=0)\n",
    "print('Accuracy: %.2f' % (accuracy*100))"
   ]
  },
  {
   "cell_type": "code",
   "execution_count": null,
   "id": "e2624698",
   "metadata": {},
   "outputs": [],
   "source": []
  }
 ],
 "metadata": {
  "kernelspec": {
   "display_name": "Python 3",
   "language": "python",
   "name": "python3"
  },
  "language_info": {
   "codemirror_mode": {
    "name": "ipython",
    "version": 3
   },
   "file_extension": ".py",
   "mimetype": "text/x-python",
   "name": "python",
   "nbconvert_exporter": "python",
   "pygments_lexer": "ipython3",
   "version": "3.7.10"
  }
 },
 "nbformat": 4,
 "nbformat_minor": 5
}
